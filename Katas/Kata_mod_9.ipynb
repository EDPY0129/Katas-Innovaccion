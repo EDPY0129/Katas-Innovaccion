{
 "cells": [
  {
   "cell_type": "markdown",
   "metadata": {},
   "source": [
    "#Ejercicio: Uso de funciones en Python "
   ]
  },
  {
   "cell_type": "code",
   "execution_count": null,
   "metadata": {},
   "outputs": [],
   "source": [
    "def Reporte(tanque_1, tanque_2, tanque_3): \n",
    "    promedio=(tanque_1+tanque_2+tanque_3)/3\n",
    "    return'El promedio de combustible es: ', promedio"
   ]
  },
  {
   "cell_type": "code",
   "execution_count": null,
   "metadata": {},
   "outputs": [],
   "source": [
    "print(Reporte(50, 100, 30))"
   ]
  },
  {
   "cell_type": "code",
   "execution_count": null,
   "metadata": {},
   "outputs": [],
   "source": [
    "def promedio(Valores):\n",
    "    total=sum(Valores)\n",
    "    num=len(Valores)\n",
    "    prom=total/num\n",
    "    return prom\n"
   ]
  },
  {
   "cell_type": "code",
   "execution_count": null,
   "metadata": {},
   "outputs": [],
   "source": [
    "def Reporte(tanque_1, tanque_2, tanque_3):\n",
    "    print('El promedio de combustible es: ', promedio((tanque_1, tanque_2, tanque_3)))\n",
    "    print('El combustible restante en el tanque 1 son:', tanque_1) \n",
    "    print('El combustible restante en el tanque 2 son:', tanque_2) \n",
    "    print('El combustible restante en el tanque 3 son:', tanque_3) "
   ]
  },
  {
   "cell_type": "code",
   "execution_count": null,
   "metadata": {},
   "outputs": [],
   "source": [
    "Reporte(100, 50, 30)"
   ]
  },
  {
   "cell_type": "markdown",
   "metadata": {},
   "source": [
    "Ejercicio 2: Trabajar con argumentos de palabras clave en funciones"
   ]
  },
  {
   "cell_type": "code",
   "execution_count": null,
   "metadata": {},
   "outputs": [],
   "source": [
    "def Informe(Hora_de_prelanzamiento, tiempo_de_vuelo,Destino, Combustible_en_tanque_externo, Combustible_en_tanque_interno):\n",
    "    print(f\"\"\"\n",
    "    El destino es: {Destino}\n",
    "    La hora de lanzamiento es: {Hora_de_prelanzamiento}\n",
    "    El tiempo vuelo es: {tiempo_de_vuelo}\n",
    "    El tiempo de llegada es: {Hora_de_prelanzamiento+tiempo_de_vuelo}\n",
    "    El combustible en el tanque externo es: {Combustible_en_tanque_externo}\n",
    "    El combustible en el tanque interno es: {Combustible_en_tanque_interno}\"\"\")\n",
    "    \n"
   ]
  },
  {
   "cell_type": "code",
   "execution_count": null,
   "metadata": {},
   "outputs": [],
   "source": [
    "Informe(18, 10,'Luna',100, 80)"
   ]
  },
  {
   "cell_type": "code",
   "execution_count": 49,
   "metadata": {},
   "outputs": [],
   "source": [
    "def Informe(Destino, *minutos, **tanques): \n",
    "    print(f\"\"\"El destino es: {Destino} \\nEl tiempo total de viaje es: {sum(minutos)} \"\"\")\n",
    "    total_c=sum(tanques.values())\n",
    "    print(f'El total de combustible es: {total_c}')\n",
    "    num=len(tanques)\n",
    "    print(f'El promedio de combustible es: {total_c/num}')\n"
   ]
  },
  {
   "cell_type": "code",
   "execution_count": 50,
   "metadata": {},
   "outputs": [
    {
     "name": "stdout",
     "output_type": "stream",
     "text": [
      "El destino es: Luna \n",
      "El tiempo total de viaje es: 30 \n",
      "El total de combustible es: 180\n",
      "El promedio de combustible es: 90.0\n"
     ]
    }
   ],
   "source": [
    "Informe('Luna', 10, 10, 10, A=100, B=80)"
   ]
  },
  {
   "cell_type": "code",
   "execution_count": 48,
   "metadata": {},
   "outputs": [],
   "source": [
    "def Informe(Destino, *minutos, **tanques): \n",
    "    print(f\"\"\"El destino es: {Destino} \\nEl tiempo total de viaje es: {sum(minutos)} \"\"\")\n",
    "    total_c=sum(tanques.values())\n",
    "    for tanque, valor in tanques.items():\n",
    "        print(f'El tanque {tanque} tiene {valor} de combustible')\n",
    "    print(f'El total de combustible es: {total_c}')\n",
    "    num=len(tanques)\n",
    "    print(f'El promedio de combustible es: {total_c/num}')\n"
   ]
  }
 ],
 "metadata": {
  "interpreter": {
   "hash": "540ea4829981fc6dd24ec8261fb899427d50850b2161b310e11a4ec45a0c6193"
  },
  "kernelspec": {
   "display_name": "Python 3.10.2 64-bit (windows store)",
   "language": "python",
   "name": "python3"
  },
  "language_info": {
   "codemirror_mode": {
    "name": "ipython",
    "version": 3
   },
   "file_extension": ".py",
   "mimetype": "text/x-python",
   "name": "python",
   "nbconvert_exporter": "python",
   "pygments_lexer": "ipython3",
   "version": "3.10.2"
  },
  "orig_nbformat": 4
 },
 "nbformat": 4,
 "nbformat_minor": 2
}
