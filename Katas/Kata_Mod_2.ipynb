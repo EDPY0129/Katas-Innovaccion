{
 "cells": [
  {
   "cell_type": "markdown",
   "metadata": {},
   "source": [
    "# Ejercicio: Crear un paquete\n",
    "Crear un entorno virtual"
   ]
  },
  {
   "cell_type": "markdown",
   "metadata": {},
   "source": [
    "Crea un entorno virtual mediante venv\n",
    "<image src=https://raw.githubusercontent.com/EDPY0129/Katas-Innovaccion/main/Imagenes_Katas/Kata_2_E.1.png>"
   ]
  },
  {
   "cell_type": "markdown",
   "metadata": {},
   "source": [
    "Ejecuta el comando para activar el entorno virtual: source env/bin/activate\n",
    "<image src= https://raw.githubusercontent.com/EDPY0129/Katas-Innovaccion/main/Imagenes_Katas/Kata_2_E.2.png>"
   ]
  },
  {
   "cell_type": "markdown",
   "metadata": {},
   "source": [
    "# Instalar una biblioteca"
   ]
  },
  {
   "cell_type": "markdown",
   "metadata": {},
   "source": [
    "Ejecuta el comando pip freeze para ver las bibliotecas instaladas en tu entorno:\n",
    "<image src= https://raw.githubusercontent.com/EDPY0129/Katas-Innovaccion/main/Imagenes_Katas/Kata_2_E.3.png>"
   ]
  },
  {
   "cell_type": "markdown",
   "metadata": {},
   "source": [
    "Ejecuta el comando pip install para instalar una biblioteca\n",
    "<image src=https://raw.githubusercontent.com/EDPY0129/Katas-Innovaccion/main/Imagenes_Katas/Kata_2_E.4.png >"
   ]
  },
  {
   "cell_type": "markdown",
   "metadata": {},
   "source": [
    "Vuelve a ejecutar pip freeze para ver cómo ha cambiado tu lista de bibliotecas\n",
    "<image src= https://raw.githubusercontent.com/EDPY0129/Katas-Innovaccion/main/Imagenes_Katas/Kata_2_E.5.png>"
   ]
  },
  {
   "cell_type": "markdown",
   "metadata": {},
   "source": [
    "Desactivar un entorno virtual\n",
    "<image src= https://raw.githubusercontent.com/EDPY0129/Katas-Innovaccion/main/Imagenes_Katas/Kata_2_E.6.png>"
   ]
  }
 ],
 "metadata": {
  "language_info": {
   "name": "python"
  },
  "orig_nbformat": 4
 },
 "nbformat": 4,
 "nbformat_minor": 2
}
