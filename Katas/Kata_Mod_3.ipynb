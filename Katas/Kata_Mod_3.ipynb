{
 "cells": [
  {
   "cell_type": "markdown",
   "metadata": {},
   "source": [
    "Ejercicio - Escribir declaraciones if, else, y elif"
   ]
  },
  {
   "cell_type": "code",
   "execution_count": null,
   "metadata": {},
   "outputs": [],
   "source": [
    "vel_as= 49\n",
    "if int(vel_as)>25: #Condicional de velocidad\n",
    "    print(\"¡¡Advertencia!!  ¡Peligro de asteroide!\") #Advertencia si el asteroide supera 25 km/s\n",
    "else:\n",
    "    print(\"Asteroide de bajo riesgo\")\n"
   ]
  },
  {
   "cell_type": "code",
   "execution_count": null,
   "metadata": {},
   "outputs": [],
   "source": [
    "vel_as=19\n",
    "if int(vel_as)>=20:\n",
    "    print(\"Atencion personas del mundo, dirijan la mirada \\nhacia el cielo, un asteroide podrá ser visible. \")\n",
    "else:\n",
    "    print(\"Asteoride sin efecto\")"
   ]
  },
  {
   "cell_type": "markdown",
   "metadata": {},
   "source": [
    "Ejercicio: Uso de operadores and y or"
   ]
  },
  {
   "cell_type": "code",
   "execution_count": 16,
   "metadata": {},
   "outputs": [
    {
     "name": "stdout",
     "output_type": "stream",
     "text": [
      "¡Advertencia de asteroide potencialmente peligroso!\n"
     ]
    }
   ],
   "source": [
    "vel_as=input(\"¿Cual es la velocidad del asteroide?: \")\n",
    "tam_as=input(\"¿Cual es el tamaño del asteroide?: \")\n",
    "if int(vel_as)>= 25 and int(tam_as)>25: \n",
    "    print(\"¡Advertencia de asteroide potencialmente peligroso!\")\n",
    "elif int(vel_as)>= 20:\n",
    "    print(\"Atencion personas del mundo, dirijan la mirada \\nhacia el cielo, un asteroide podrá ser visible.\")\n",
    "else:\n",
    "    print(\"Asteoride de bajo riesgo\")"
   ]
  }
 ],
 "metadata": {
  "interpreter": {
   "hash": "540ea4829981fc6dd24ec8261fb899427d50850b2161b310e11a4ec45a0c6193"
  },
  "kernelspec": {
   "display_name": "Python 3.10.2 64-bit (windows store)",
   "language": "python",
   "name": "python3"
  },
  "language_info": {
   "codemirror_mode": {
    "name": "ipython",
    "version": 3
   },
   "file_extension": ".py",
   "mimetype": "text/x-python",
   "name": "python",
   "nbconvert_exporter": "python",
   "pygments_lexer": "ipython3",
   "version": "3.10.2"
  },
  "orig_nbformat": 4
 },
 "nbformat": 4,
 "nbformat_minor": 2
}
