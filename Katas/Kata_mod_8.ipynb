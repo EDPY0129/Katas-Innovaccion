{
 "cells": [
  {
   "cell_type": "markdown",
   "metadata": {},
   "source": [
    "# Ejercicio 1: Creación de diccionarios de Python "
   ]
  },
  {
   "cell_type": "code",
   "execution_count": 31,
   "metadata": {},
   "outputs": [],
   "source": [
    "#creamos el diccionario\n",
    "\n",
    "planet={\n",
    "    'name':'Marte', \n",
    "    'moons': 2\n",
    "}"
   ]
  },
  {
   "cell_type": "code",
   "execution_count": 32,
   "metadata": {},
   "outputs": [
    {
     "name": "stdout",
     "output_type": "stream",
     "text": [
      "El planeta Marte tiene 2 lunas.\n"
     ]
    }
   ],
   "source": [
    "print('El planeta '+planet.get('name')+' tiene', (planet['moons']), 'lunas.')\n",
    "\n"
   ]
  },
  {
   "cell_type": "code",
   "execution_count": 33,
   "metadata": {},
   "outputs": [],
   "source": [
    "planet['Circunferencia km'] = {\n",
    "    'polar': 6752,\n",
    "    'equatorial': 6792  \n",
    "}"
   ]
  },
  {
   "cell_type": "code",
   "execution_count": 37,
   "metadata": {},
   "outputs": [
    {
     "name": "stdout",
     "output_type": "stream",
     "text": [
      "El planeta Marte tiene 6752  km de circunferencia polar. \n"
     ]
    }
   ],
   "source": [
    "print('El planeta', planet['name'], 'tiene', planet['Circunferencia km']['polar'], ' km de circunferencia polar. ')"
   ]
  },
  {
   "cell_type": "markdown",
   "metadata": {},
   "source": [
    "#Ejercicio 2. Progrgamación dinámica con diccionarios"
   ]
  },
  {
   "cell_type": "code",
   "execution_count": 41,
   "metadata": {},
   "outputs": [],
   "source": [
    "planet_moons={\n",
    "    'Mercurio': 0,\n",
    "    'Venus': 0,\n",
    "    'Tierra':1, \n",
    "    'Marte':2,\n",
    "    'Jupiter':79,\n",
    "    'Saturno': 82,\n",
    "    'Urano':27, \n",
    "    'Neptuno':14, \n",
    "    'Pluton':5,\n",
    "    'Haumea':2,\n",
    "    'Makemake':1,\n",
    "    'Eris':1,\n",
    "}"
   ]
  },
  {
   "cell_type": "code",
   "execution_count": 45,
   "metadata": {},
   "outputs": [
    {
     "name": "stdout",
     "output_type": "stream",
     "text": [
      "12\n"
     ]
    }
   ],
   "source": [
    "moons=planet_moons.values()\n",
    "planets=len(planet_moons.keys())\n",
    "print(planets)"
   ]
  },
  {
   "cell_type": "code",
   "execution_count": 49,
   "metadata": {},
   "outputs": [
    {
     "name": "stdout",
     "output_type": "stream",
     "text": [
      "El nuemero total de lunas es: 214\n",
      "El promedio de lunas por planeta es:  18\n"
     ]
    }
   ],
   "source": [
    "total_moons=0\n",
    "for moon in moons: \n",
    "    total_moons=total_moons + moon\n",
    "\n",
    "print('El nuemero total de lunas es:', total_moons)\n",
    "print('El promedio de lunas por planeta es: ', round(total_moons/planets))"
   ]
  }
 ],
 "metadata": {
  "interpreter": {
   "hash": "540ea4829981fc6dd24ec8261fb899427d50850b2161b310e11a4ec45a0c6193"
  },
  "kernelspec": {
   "display_name": "Python 3.10.2 64-bit (windows store)",
   "language": "python",
   "name": "python3"
  },
  "language_info": {
   "codemirror_mode": {
    "name": "ipython",
    "version": 3
   },
   "file_extension": ".py",
   "mimetype": "text/x-python",
   "name": "python",
   "nbconvert_exporter": "python",
   "pygments_lexer": "ipython3",
   "version": "3.10.2"
  },
  "orig_nbformat": 4
 },
 "nbformat": 4,
 "nbformat_minor": 2
}
