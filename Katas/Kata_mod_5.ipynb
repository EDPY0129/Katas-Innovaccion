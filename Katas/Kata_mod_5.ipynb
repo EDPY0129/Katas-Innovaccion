{
 "cells": [
  {
   "cell_type": "markdown",
   "metadata": {},
   "source": [
    "# Ejercicio 1. Utilizar operadores aritmeticos "
   ]
  },
  {
   "cell_type": "code",
   "execution_count": 1,
   "metadata": {},
   "outputs": [],
   "source": [
    "d_tierra=149597870\n",
    "d_jupiter=778547200\n"
   ]
  },
  {
   "cell_type": "code",
   "execution_count": 3,
   "metadata": {},
   "outputs": [
    {
     "name": "stdout",
     "output_type": "stream",
     "text": [
      "La distancia entre los dos planetas es: 628949330\n",
      "La distancia entre los dos planetas, en millas, es: 390577534\n"
     ]
    }
   ],
   "source": [
    "d_planetas=abs(d_tierra-d_jupiter)\n",
    "print(\"La distancia entre los dos planetas es: \"+ str(d_planetas))\n",
    "print(\"La distancia entre los dos planetas, en millas, es: \"+ str(round(d_planetas*0.621)))\n"
   ]
  },
  {
   "cell_type": "markdown",
   "metadata": {},
   "source": [
    "Ejercicio 2: Convierte cadeas en numeros y usa valores absolutos"
   ]
  },
  {
   "cell_type": "code",
   "execution_count": 6,
   "metadata": {},
   "outputs": [
    {
     "name": "stdout",
     "output_type": "stream",
     "text": [
      "La distancia de Tierra  al planeta Jupiter es: 628949330 km\n",
      "La distancia de Tierra  al planeta Jupiter es: 390577533.93 km\n"
     ]
    }
   ],
   "source": [
    "planeta_1=input(\"Cual es el nombre del primer planeta?: \")\n",
    "d_planeta_1=input(\"Digite la distancia de \"+planeta_1+\" al sol: \")\n",
    "\n",
    "planeta_2=input(\"¿Cual es el nombre del segundo planeta?: \")\n",
    "d_planeta2=input(\"Digite la distancia de \"+planeta_2+\" al sol: \")\n",
    "\n",
    "distancia=abs(int(d_planeta2)-int(d_planeta_1))\n",
    "print(\"La distancia de \"+planeta_1+\" al planeta \"+planeta_2+\" es: \"+str(distancia)+ \" km\")\n",
    "\n",
    "print(\"La distancia de \"+planeta_1+\" al planeta \"+planeta_2+\" es: \"+str(distancia*0.621)+ \" millas\")\n"
   ]
  }
 ],
 "metadata": {
  "interpreter": {
   "hash": "540ea4829981fc6dd24ec8261fb899427d50850b2161b310e11a4ec45a0c6193"
  },
  "kernelspec": {
   "display_name": "Python 3.10.2 64-bit (windows store)",
   "language": "python",
   "name": "python3"
  },
  "language_info": {
   "codemirror_mode": {
    "name": "ipython",
    "version": 3
   },
   "file_extension": ".py",
   "mimetype": "text/x-python",
   "name": "python",
   "nbconvert_exporter": "python",
   "pygments_lexer": "ipython3",
   "version": "3.10.2"
  },
  "orig_nbformat": 4
 },
 "nbformat": 4,
 "nbformat_minor": 2
}
